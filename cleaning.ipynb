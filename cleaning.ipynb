{
 "cells": [
  {
   "cell_type": "code",
   "execution_count": 1,
   "id": "454cbbb0",
   "metadata": {},
   "outputs": [],
   "source": [
    "import pandas as pd"
   ]
  },
  {
   "cell_type": "code",
   "execution_count": 3,
   "id": "7193ef57",
   "metadata": {},
   "outputs": [],
   "source": [
    "df = pd.read_csv('data/tic tac toe.csv')"
   ]
  },
  {
   "cell_type": "code",
   "execution_count": 4,
   "id": "feefa767",
   "metadata": {},
   "outputs": [
    {
     "name": "stdout",
     "output_type": "stream",
     "text": [
      "      MOVE1 MOVE2 MOVE3 MOVE4 MOVE5 CLASS\n",
      "0       0.0     8     1     3     ?  loss\n",
      "1       4.0     7     2     6     ?   win\n",
      "2       0.0     8     1     6     5  draw\n",
      "3       4.0     7     2     3     ?  draw\n",
      "4       0.0     4     2     1     ?   win\n",
      "...     ...   ...   ...   ...   ...   ...\n",
      "2432    6.0     2     8     0     ?  loss\n",
      "2433    4.0     5     7     1     ?   win\n",
      "2434    6.0     2     0     ?     ?  loss\n",
      "2435    4.0     7     1     ?     ?   win\n",
      "2436    NaN   NaN   NaN   NaN   NaN   NaN\n",
      "\n",
      "[2437 rows x 6 columns]\n"
     ]
    }
   ],
   "source": [
    "print(df)"
   ]
  },
  {
   "cell_type": "code",
   "execution_count": 6,
   "id": "badfe9a8",
   "metadata": {},
   "outputs": [],
   "source": [
    "#remove the rows with draw\n",
    "df = df[df['CLASS'] != 'draw']"
   ]
  },
  {
   "cell_type": "code",
   "execution_count": 7,
   "id": "892d8fab",
   "metadata": {},
   "outputs": [
    {
     "name": "stdout",
     "output_type": "stream",
     "text": [
      "      MOVE1 MOVE2 MOVE3 MOVE4 MOVE5 CLASS\n",
      "0       0.0     8     1     3     ?  loss\n",
      "1       4.0     7     2     6     ?   win\n",
      "4       0.0     4     2     1     ?   win\n",
      "5       8.0     5     6     ?     ?  loss\n",
      "8       2.0     6     7     ?     ?  loss\n",
      "...     ...   ...   ...   ...   ...   ...\n",
      "2432    6.0     2     8     0     ?  loss\n",
      "2433    4.0     5     7     1     ?   win\n",
      "2434    6.0     2     0     ?     ?  loss\n",
      "2435    4.0     7     1     ?     ?   win\n",
      "2436    NaN   NaN   NaN   NaN   NaN   NaN\n",
      "\n",
      "[1303 rows x 6 columns]\n"
     ]
    }
   ],
   "source": [
    "print(df)"
   ]
  },
  {
   "cell_type": "code",
   "execution_count": 8,
   "id": "a5328c3d",
   "metadata": {},
   "outputs": [],
   "source": [
    "#remove last row\n",
    "df = df[:-1]"
   ]
  },
  {
   "cell_type": "code",
   "execution_count": 9,
   "id": "0737ec2b",
   "metadata": {},
   "outputs": [
    {
     "name": "stdout",
     "output_type": "stream",
     "text": [
      "      MOVE1 MOVE2 MOVE3 MOVE4 MOVE5 CLASS\n",
      "0       0.0     8     1     3     ?  loss\n",
      "1       4.0     7     2     6     ?   win\n",
      "4       0.0     4     2     1     ?   win\n",
      "5       8.0     5     6     ?     ?  loss\n",
      "8       2.0     6     7     ?     ?  loss\n",
      "...     ...   ...   ...   ...   ...   ...\n",
      "2431    4.0     5     3     ?     ?   win\n",
      "2432    6.0     2     8     0     ?  loss\n",
      "2433    4.0     5     7     1     ?   win\n",
      "2434    6.0     2     0     ?     ?  loss\n",
      "2435    4.0     7     1     ?     ?   win\n",
      "\n",
      "[1302 rows x 6 columns]\n"
     ]
    }
   ],
   "source": [
    "print(df)"
   ]
  },
  {
   "cell_type": "code",
   "execution_count": 10,
   "id": "e40222cd",
   "metadata": {},
   "outputs": [],
   "source": [
    "df.to_csv('data/cleaned_tic_tac_toe.csv', index=False)"
   ]
  }
 ],
 "metadata": {
  "kernelspec": {
   "display_name": "nlp_course",
   "language": "python",
   "name": "python3"
  },
  "language_info": {
   "codemirror_mode": {
    "name": "ipython",
    "version": 3
   },
   "file_extension": ".py",
   "mimetype": "text/x-python",
   "name": "python",
   "nbconvert_exporter": "python",
   "pygments_lexer": "ipython3",
   "version": "3.12.11"
  }
 },
 "nbformat": 4,
 "nbformat_minor": 5
}
